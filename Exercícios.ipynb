{
  "cells": [
    {
      "cell_type": "markdown",
      "metadata": {
        "id": "view-in-github",
        "colab_type": "text"
      },
      "source": [
        "<a href=\"https://colab.research.google.com/github/pedr19faria/CBPF-ic/blob/main/Exerc%C3%ADcios.ipynb\" target=\"_parent\"><img src=\"https://colab.research.google.com/assets/colab-badge.svg\" alt=\"Open In Colab\"/></a>"
      ]
    },
    {
      "cell_type": "markdown",
      "id": "d622e668",
      "metadata": {
        "id": "d622e668"
      },
      "source": [
        "# **Exercícios**\n"
      ]
    },
    {
      "cell_type": "markdown",
      "id": "79c28574",
      "metadata": {
        "id": "79c28574"
      },
      "source": [
        "1. Mostre que no referencial girante a equação $\\dfrac{d\\mu}{dt} = \\gamma(\\mu \\times B)$ é escrita como $\\dfrac{d\\mu}{dt} = \\gamma(\\mu \\times B)- \\mu \\times \\Omega \\hat{z}$"
      ]
    },
    {
      "cell_type": "markdown",
      "id": "04a05716",
      "metadata": {
        "id": "04a05716"
      },
      "source": [
        "$\\begin{equation}\n",
        "(\\dfrac{d\\vec{Q}}{dt})_{So} = (\\dfrac{d\\vec{Q}}{dt})_{S} + \\vec{\\omega}\\times \\vec{Q}\n",
        "\\end{equation}$\n",
        "Essa equação descreve que diferenciar um vetor qualquer em relação ao tempo no referencial parado $S_0$ é o equivalente a diferenciar em relação ao tempo no referencial girante e somar a operação $\\omega \\times \\vec{Q}$\n",
        "\n",
        "No referencial inercial sabemos que $\\dfrac{d\\mu}{dt} = \\gamma(\\mu \\times B)$, então:\n",
        "\n",
        "$\\begin{equation}\n",
        "(\\dfrac{d\\mu}{dt})_{So} = (\\dfrac{d\\mu}{dt})_{S} + \\vec{\\Omega}\\times \\mu\n",
        "\\end{equation}$\n",
        "\n",
        " Portanto no referencial girante:\n",
        "$\\begin{equation}\n",
        "(\\dfrac{d\\mu}{dt})_{S} = \\gamma(\\mu \\times B) +\\mu \\times \\vec{\\Omega}\n",
        "\\end{equation}$\n",
        "\n",
        "Tive uma dúvida em relação ao sinal negativo na equação. De acordo com o livro do Ivan no referencial girante: $\\vec{\\Omega} =- \\Omega \\hat{z}$, logo:\\\n",
        "$\\begin{equation}\n",
        "(\\dfrac{d\\mu}{dt})_{S} = \\gamma(\\mu \\times B) -\\mu \\times \\Omega \\hat{z}\n",
        "\\end{equation}$\n"
      ]
    },
    {
      "cell_type": "markdown",
      "id": "495b8a7d",
      "metadata": {
        "id": "495b8a7d"
      },
      "source": [
        "2. Mostre que na ressonância ($\\Omega  = \\omega_0$), o campo oscilante $2B_1c cos(\\Omega t + \\pi/2)\\hat{x}$ gira o spin com frequência $\\gamma B_1$ em torno do eixo y."
      ]
    },
    {
      "cell_type": "markdown",
      "id": "a0ec7683",
      "metadata": {
        "id": "a0ec7683"
      },
      "source": [
        "No referencial girante o campo magnético observado é:\n",
        "\n",
        "$\\vec{B}_{eff} = (B_0 - \\Omega/\\gamma)\\hat{z} + B_1[cos(\\varphi)\\hat{x} + sin(\\varphi)\\hat{y}]$\n",
        "\n",
        "Como $\\varphi = \\dfrac{\\pi}{2}$ e na condição de ressonância $\\gamma B_0 = \\omega_0 = \\Omega$\n",
        "\n",
        "$\\vec{B}_{eff} = B_1\\hat{y}$\n",
        "\n",
        "A equação de movimento do referencial girante é:\n",
        "\n",
        "$\\dfrac{d\\mu}{dt} = \\gamma(\\mu \\times B_{eff})$\n",
        "\n",
        "Escrevendo de forma explicíta o produto vetorial, temos\n",
        "\n",
        "$\\dfrac{d\\mu}{dt} = \\gamma \\left |\\begin{array}{ccc}\n",
        "\\hat{x} & \\hat{y} & \\hat{z} \\\\\n",
        "\\mu_x & \\mu_y & \\mu_z \\\\\n",
        "0 & B_1 & 0\n",
        "\\end{array}\n",
        "\\right| = -\\mu_zB_1\\hat{x} + \\mu_xB_1\\hat{z}$\n",
        "\n",
        "Logo, $\\mu_y$ é constante e:\n",
        "\n",
        "$\\dfrac{d\\mu_x}{dt} = -\\mu_zB_1$ e $\\dfrac{d\\mu_z}{dt} = \\mu_xB_1 $\n",
        "\n",
        "Podemos dizer que:\n",
        "\n",
        "$\\mu = \\mu_z + i\\mu_x$\n",
        "\n",
        "$\\dfrac{d\\mu}{dt} =  \\dfrac{d\\mu_z}{dt}+i\\dfrac{d\\mu_x}{dt}$\n",
        "\n",
        "Substituindo os valores\n",
        "\n",
        "$\\dfrac{d\\mu}{dt} = -i\\gamma B_1 \\mu(t)$\n",
        "\n",
        "Resolvendo a equação diferencial:\n",
        "\n",
        "$\\mu(t) = \\mu(0)e^{-i\\gamma B_1 \\mu(t)}$\n",
        "\n",
        "Usando a fórmula de Euler e igualando as partes reais com as imaginárias podemos ver que:\n",
        "\n",
        "$\\vec{\\mu}(t) = \\mu (0)[cos(- \\gamma B_1 t) + sin(-\\gamma B_1 t)]$\n",
        "\n",
        "$\\vec{\\mu}(t) = \\mu (0)[cos(\\gamma B_1 t)\\hat{z} - sin(\\gamma B_1 t)\\hat{x}]$\n",
        "\n",
        "Portanto, a frequência angular é $\\omega = \\gamma B_1$ em torno de $\\hat{y}$."
      ]
    },
    {
      "cell_type": "markdown",
      "id": "d2c847b6",
      "metadata": {
        "id": "d2c847b6"
      },
      "source": [
        "3. Mostre que fora da ressonÂncia o campo oscilante $2B_1cos(\\Omega t + \\pi/2)\\hat{x}$ gira o spin com frequência $\\lambda B_1$ em torno do eixo y."
      ]
    },
    {
      "cell_type": "markdown",
      "id": "893ff2dc",
      "metadata": {
        "id": "893ff2dc"
      },
      "source": [
        "No referencial girante o campo magnético observado é\n",
        "\n",
        "$\\vec{B}_{eff} = (B_0 - \\Omega/\\gamma)\\hat{z} + B_1[cos(\\varphi)\\hat{x} + sin(\\varphi)\\hat{y}]$\n",
        "\n",
        "Como $\\varphi = \\dfrac{\\pi}{2}$\n",
        "\n",
        "$\\vec{B}_{eff} = (B_0 - \\Omega/\\lambda)\\hat{z} + B_1 \\hat{y}$\n",
        "\n",
        "Chamando $(B_0 - \\Omega/\\lambda)$ de $B_3$ para simplificar a escrita, podemos escrever de forma explícita o produto vetorial:\n",
        "\n",
        "\n",
        "$\\dfrac{d\\mu}{dt} = \\gamma \\left |\\begin{array}{ccc}\n",
        "\\hat{x} & \\hat{y} & \\hat{z} \\\\\n",
        "\\mu_x & \\mu_y & \\mu_z \\\\\n",
        "0 & B_1 & 0\n",
        "\\end{array}\n",
        "\\right|= (\\mu_y B_3 - \\mu_zB_1)\\hat{x} + (-\\mu_xB_3)\\hat{y} + (\\mu_xB_1)\\hat{z}$\n",
        "\n",
        "Assim, as derivadas de $\\mu$ são:\n",
        "\n",
        "$\\dfrac{d\\mu_x}{dt} = \\gamma(\\mu_y B_3 - \\mu_z B_1) $\n",
        "\n",
        "$\\dfrac{d\\mu_y}{dt} = \\gamma(\\mu_xB_3)$\n",
        "\n",
        "$\\dfrac{d\\mu_x}{dt} = \\gamma(\\mu_x B_1)$\n",
        "\n"
      ]
    },
    {
      "cell_type": "markdown",
      "id": "8f930d26",
      "metadata": {
        "id": "8f930d26"
      },
      "source": [
        "Considere os seguintes spins nucleares: 1H($\\gamma = 42.577 Mhz/T $), 19F ($\\gamma = 10.708 Mhz/T$), 2H ($\\gamma = 6.536 Mhz/T$) e o spin eletrônico ($\\gamma = 28024.951 Mhz/T$)."
      ]
    },
    {
      "cell_type": "markdown",
      "id": "7218d864",
      "metadata": {
        "id": "7218d864"
      },
      "source": [
        "4. Calcule a frequência de ressonância dos spins acima: no campo da terra ($0.5G = 50\\mu T = 50 *10^{-6}T$), em $0.5T$T ( campo típico de\n",
        "um magneto permanente) e $11.7T$ (campo típico gerado por um magneto supercondutor). Compare os resultados."
      ]
    },
    {
      "cell_type": "markdown",
      "id": "56508c14",
      "metadata": {
        "id": "56508c14"
      },
      "source": [
        "Sabemos que a frequência de ressonância pode ser calculada por $\\gamma B$. Assim faremos isso para cada uma das combinações:"
      ]
    },
    {
      "cell_type": "code",
      "execution_count": null,
      "id": "669aca33",
      "metadata": {
        "id": "669aca33"
      },
      "outputs": [],
      "source": [
        "import numpy as np\n",
        "### Estabelecendo os paramêtros dados:\n",
        "giromag = [42.577, 10.708, 40.078, 6.536, 28024.951] # Mhz/T\n",
        "# 1H, 13C, 19F, 2H, spin eletrônico\n",
        "Bterra = 50e-6 #50G = 50 *10^-6 T\n",
        "Bmag = 0.5 # 0.5 T\n",
        "Bscond= 11.7 # 11.7 T"
      ]
    },
    {
      "cell_type": "markdown",
      "id": "e820fc57",
      "metadata": {
        "id": "e820fc57"
      },
      "source": [
        "No campo magnético da Terra ($B_{terra} = 50G$):"
      ]
    },
    {
      "cell_type": "code",
      "execution_count": null,
      "id": "f02d6a1a",
      "metadata": {
        "id": "f02d6a1a",
        "outputId": "a14300f3-4c8f-4ace-d0e0-06ac1c6e70f8"
      },
      "outputs": [
        {
          "name": "stdout",
          "output_type": "stream",
          "text": [
            "w_0 de 1H = 0.002129 Mhz\n",
            "w_0 de 13C = 0.000535 Mhz\n",
            "w_0 de 19F = 0.002004 Mhz\n",
            "w_0 de 2H = 0.000327 Mhz\n",
            "w_0 de spin eletrônico = 1.401248 Mhz\n"
          ]
        }
      ],
      "source": [
        "w0_terra = [i*Bterra for i in giromag]\n",
        "print(f'w_0 de 1H = {w0_terra[0]:.6f} Mhz')\n",
        "print(f'w_0 de 13C = {w0_terra[1]:.6f} Mhz')\n",
        "print(f'w_0 de 19F = {w0_terra[2]:.6f} Mhz')\n",
        "print(f'w_0 de 2H = {w0_terra[3]:.6f} Mhz')\n",
        "print(f'w_0 de spin eletrônico = {w0_terra[4]:.6f} Mhz')"
      ]
    },
    {
      "cell_type": "markdown",
      "id": "c1050633",
      "metadata": {
        "id": "c1050633"
      },
      "source": [
        "No campo típico de um magneto permanente ($B_{permanente} = 0.5T$):"
      ]
    },
    {
      "cell_type": "code",
      "execution_count": null,
      "id": "46c9c257",
      "metadata": {
        "id": "46c9c257",
        "outputId": "eb62b357-c404-4651-f0ef-08936d2f5762"
      },
      "outputs": [
        {
          "name": "stdout",
          "output_type": "stream",
          "text": [
            "w_0 de 1H = 21.288500 Mhz\n",
            "w_0 de 13C = 5.354000 Mhz\n",
            "w_0 de 19F = 20.039000 Mhz\n",
            "w_0 de 2H = 3.268000 Mhz\n",
            "w_0 de spin eletrônico = 14012.475500 Mhz\n"
          ]
        }
      ],
      "source": [
        "w0_mag = [i*Bmag for i in giromag]\n",
        "print(f'w_0 de 1H = {w0_mag[0]:.6f} Mhz')\n",
        "print(f'w_0 de 13C = {w0_mag[1]:.6f} Mhz')\n",
        "print(f'w_0 de 19F = {w0_mag[2]:.6f} Mhz')\n",
        "print(f'w_0 de 2H = {w0_mag[3]:.6f} Mhz')\n",
        "print(f'w_0 de spin eletrônico = {w0_mag[4]:.6f} Mhz')"
      ]
    },
    {
      "cell_type": "markdown",
      "id": "fdd34d86",
      "metadata": {
        "id": "fdd34d86"
      },
      "source": [
        "No campo típico de um magneto supercondutor ($B_{supercondutor} = 11.7T$):"
      ]
    },
    {
      "cell_type": "code",
      "execution_count": null,
      "id": "57fef029",
      "metadata": {
        "id": "57fef029",
        "outputId": "03b7f39c-d0de-429c-c701-bf0b4de67666"
      },
      "outputs": [
        {
          "name": "stdout",
          "output_type": "stream",
          "text": [
            "w_0 de 1H = 498.150900 Mhz\n",
            "w_0 de 13C = 125.283600 Mhz\n",
            "w_0 de 19F = 468.912600 Mhz\n",
            "w_0 de 2H = 76.471200 Mhz\n",
            "w_0 de spin eletrônico = 327891.9267 Mhz\n"
          ]
        }
      ],
      "source": [
        "w0_scond = [i*Bscond for i in giromag]\n",
        "print(f'w_0 de 1H = {w0_scond[0]:.6f} Mhz')\n",
        "print(f'w_0 de 13C = {w0_scond[1]:.6f} Mhz')\n",
        "print(f'w_0 de 19F = {w0_scond[2]:.6f} Mhz')\n",
        "print(f'w_0 de 2H = {w0_scond[3]:.6f} Mhz')\n",
        "print(f'w_0 de spin eletrônico = {w0_scond[4]} Mhz')"
      ]
    },
    {
      "cell_type": "markdown",
      "id": "35e2f814",
      "metadata": {
        "id": "35e2f814"
      },
      "source": [
        "De maneira geral, percebe-se que a frequência de ressonância do spin eletrônico é significativamente maior que de todos outros.No campo da terra a frequência, de maneira geral, é bem menor e quase insignificante, quando comparado com os outros campos criados usando o magneto permanente e o supercondutor. Poderíamos prever os resultados, já que a frequência é proporcional à razão giromagnética."
      ]
    },
    {
      "cell_type": "markdown",
      "id": "53587c31",
      "metadata": {
        "id": "53587c31"
      },
      "source": [
        "5. Considere o campo $B_1 = 0.5 mT$, calcule o tempo para girar os spins acima de 90 graus."
      ]
    },
    {
      "cell_type": "markdown",
      "id": "2ab5d371",
      "metadata": {
        "id": "2ab5d371"
      },
      "source": [
        "Podemos calcular o tempo a partir da equação $\\theta = \\gamma B_1 t_p$\n",
        "\n",
        "$t_p = \\dfrac{\\gamma B_1}{\\theta}$\n",
        "\n",
        "Sendo $\\theta = \\pi/2$"
      ]
    },
    {
      "cell_type": "code",
      "execution_count": null,
      "id": "ad55a665",
      "metadata": {
        "scrolled": true,
        "id": "ad55a665",
        "outputId": "cd721f7f-fe59-40ee-f6d6-bb1107563589"
      },
      "outputs": [
        {
          "name": "stdout",
          "output_type": "stream",
          "text": [
            "tempo - 1H = 0.013553 segundos\n",
            "tempo - 13C = 0.003408 segundos\n",
            "tempo - 19F = 0.012757 segundos\n",
            "tempo - 2H = 0.002080 segundos\n",
            "tempo - spin eletrônico = 8.920619 segundos\n"
          ]
        }
      ],
      "source": [
        "B1 = 0.5e-3 #T\n",
        "time_terra = [(i*B1)/(np.pi/2) for i in giromag]\n",
        "print(f'tempo - 1H = {time_terra[0]:.6f} segundos')\n",
        "print(f'tempo - 13C = {time_terra[1]:.6f} segundos')\n",
        "print(f'tempo - 19F = {time_terra[2]:.6f} segundos')\n",
        "print(f'tempo - 2H = {time_terra[3]:.6f} segundos')\n",
        "print(f'tempo - spin eletrônico = {time_terra[4]:.6f} segundos')"
      ]
    }
  ],
  "metadata": {
    "kernelspec": {
      "display_name": "Python 3 (ipykernel)",
      "language": "python",
      "name": "python3"
    },
    "language_info": {
      "codemirror_mode": {
        "name": "ipython",
        "version": 3
      },
      "file_extension": ".py",
      "mimetype": "text/x-python",
      "name": "python",
      "nbconvert_exporter": "python",
      "pygments_lexer": "ipython3",
      "version": "3.9.7"
    },
    "colab": {
      "provenance": [],
      "include_colab_link": true
    }
  },
  "nbformat": 4,
  "nbformat_minor": 5
}